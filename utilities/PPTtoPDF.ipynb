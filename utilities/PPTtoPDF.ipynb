{
 "cells": [
  {
   "cell_type": "code",
   "execution_count": 44,
   "id": "c65cf25e-1f5b-401e-8acb-ae308509a17a",
   "metadata": {},
   "outputs": [
    {
     "data": {
      "text/plain": [
       "['.\\\\Day 1\\\\1. Primer on Analytics.pptx',\n",
       " '.\\\\Day 1\\\\2. Primer on Data Science.pptx',\n",
       " '.\\\\Day 1\\\\3. Machine Learning.pptx',\n",
       " '.\\\\Day 1\\\\4. mcube Platform Philosophy, Evolution & Roadmap.pptx',\n",
       " '.\\\\Day 10\\\\5.5-6-7. Mcube Workbench.pptx',\n",
       " '.\\\\Day 2\\\\1. Product Features and Building Blocks.pptx',\n",
       " '.\\\\Day 2\\\\2 Implementation Architecture of mcube.pptx',\n",
       " '.\\\\Day 2\\\\3. ElasticSearch Fundamental Training.pptx',\n",
       " '.\\\\Day 2\\\\4. Frontend - Descriptive Analytics Module.pptx',\n",
       " '.\\\\Day 2\\\\5.1 Querying mcube.pptx',\n",
       " '.\\\\Day 3\\\\Pentaho Data Inegration.pptx',\n",
       " '.\\\\Day 5\\\\Spark Libraries.pptx',\n",
       " '.\\\\Day 5\\\\Spark_Computation_SME Theory Session.pptx',\n",
       " '.\\\\Day 8\\\\1. BI Case Studies_Clean.pptx',\n",
       " '.\\\\Day 8\\\\1.1 Descriptive Analytics and BI Usecases.pptx',\n",
       " '.\\\\Day 8\\\\3. TCG_Digital_Data Science_Case Studies.pptx',\n",
       " '.\\\\Day 8\\\\4. Advanced Analytics Use Cases.pptx',\n",
       " '.\\\\Day 8\\\\5.1 Querying mcube.pptx',\n",
       " '.\\\\Day 9\\\\Elasticsearch Developers and Designers and Hands On.pptx',\n",
       " '.\\\\Day 9\\\\ezeXtend and Genie.pptx',\n",
       " '.\\\\Day 3\\\\GPDB\\\\Day 3_GPDB_Unplugged.pptx',\n",
       " '.\\\\Day 4\\\\Python\\\\Python-for-Data-Analysis.pptx',\n",
       " '.\\\\Day 4\\\\Python\\\\Python_Clean.pptx',\n",
       " '.\\\\Day 4\\\\SQL\\\\MySQL - Training.pptx',\n",
       " '.\\\\Day 6\\\\Advanced Analytics\\\\5. Working Session Use Cases_AA_workflow.pptx']"
      ]
     },
     "execution_count": 44,
     "metadata": {},
     "output_type": "execute_result"
    }
   ],
   "source": [
    "from glob import glob\n",
    "import sys\n",
    "path = glob('.\\*\\*.pptx')\n",
    "path1 = glob('.\\*\\*\\*.pptx')\n",
    "\n",
    "paths = path+path1\n",
    "paths"
   ]
  },
  {
   "cell_type": "code",
   "execution_count": 45,
   "id": "e20024b3-a3a5-4a0a-9f98-d71cc5dc47dc",
   "metadata": {},
   "outputs": [],
   "source": [
    "import win32com.client\n",
    "\n",
    "def pptx_to_pdf(input_pptx_path, output_pdf_path):\n",
    "    powerpoint = win32com.client.Dispatch(\"PowerPoint.Application\")\n",
    "    presentation = powerpoint.Presentations.Open(input_pptx_path)\n",
    "    presentation.SaveAs(output_pdf_path, 32)  # 32 is the value for saving as PDF\n",
    "    presentation.Close()\n",
    "    powerpoint.Quit()\n",
    "    \n",
    "    return None\n",
    "\n",
    "for path_ in paths:\n",
    "    path_ = path_\n",
    "    input_file_path = os.path.abspath(path_)\n",
    "    output_file_path = os.path.abspath(path_.split('.pptx')[0]+'.pdf')\n",
    "\n",
    "    pptx_to_pdf(input_file_path, output_file_path)"
   ]
  },
  {
   "cell_type": "code",
   "execution_count": null,
   "id": "025d40ea-80c9-42b4-a247-63a47bd36a7a",
   "metadata": {},
   "outputs": [],
   "source": []
  }
 ],
 "metadata": {
  "kernelspec": {
   "display_name": "Python 3 (ipykernel)",
   "language": "python",
   "name": "python3"
  },
  "language_info": {
   "codemirror_mode": {
    "name": "ipython",
    "version": 3
   },
   "file_extension": ".py",
   "mimetype": "text/x-python",
   "name": "python",
   "nbconvert_exporter": "python",
   "pygments_lexer": "ipython3",
   "version": "3.9.12"
  }
 },
 "nbformat": 4,
 "nbformat_minor": 5
}
