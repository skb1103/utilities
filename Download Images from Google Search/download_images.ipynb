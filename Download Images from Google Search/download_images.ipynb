{
 "cells": [
  {
   "cell_type": "code",
   "execution_count": null,
   "metadata": {},
   "outputs": [],
   "source": [
    "# download latest version of chromedriver for macOS\n",
    "import requests\n",
    "import wget\n",
    "import zipfile\n",
    "import os\n",
    "\n",
    "# get the latest chrome driver version number\n",
    "url = 'https://chromedriver.storage.googleapis.com/LATEST_RELEASE'\n",
    "response = requests.get(url)\n",
    "version_number = response.text\n",
    "\n",
    "# build the donwload url\n",
    "download_url = \"https://chromedriver.storage.googleapis.com/\" + version_number +\"/chromedriver_mac_arm64.zip\"\n",
    "\n",
    "# download the zip file using the url built above\n",
    "latest_driver_zip = wget.download(download_url,'chromedriver.zip')\n",
    "\n",
    "# extract the zip file\n",
    "with zipfile.ZipFile(latest_driver_zip, 'r') as zip_ref:\n",
    "    zip_ref.extractall() # you can specify the destination folder path here\n",
    "# delete the zip file downloaded above\n",
    "os.remove(latest_driver_zip)"
   ]
  },
  {
   "cell_type": "code",
   "execution_count": null,
   "metadata": {},
   "outputs": [],
   "source": [
    "from selenium import webdriver\n",
    "from selenium.webdriver.common.keys import Keys\n",
    "from selenium.webdriver.common.by import By\n",
    "from selenium.webdriver.chrome.options import Options\n",
    "chrome_options = Options()\n",
    "chrome_options.add_argument(\"start-maximized\")\n",
    "chrome_options.add_argument(\"disable-infobars\")\n",
    "chrome_options.add_experimental_option(\"excludeSwitches\", [\"enable-automation\"])\n",
    "chrome_options.add_experimental_option('useAutomationExtension', False)\n",
    "driver = webdriver.Chrome(options = chrome_options)"
   ]
  },
  {
   "cell_type": "code",
   "execution_count": null,
   "metadata": {},
   "outputs": [],
   "source": [
    "# write query to search on google \n",
    "query = \"car body damage\""
   ]
  },
  {
   "cell_type": "code",
   "execution_count": null,
   "metadata": {},
   "outputs": [],
   "source": [
    "from requests.models import PreparedRequest\n",
    "import time\n",
    "req = PreparedRequest()\n",
    "url = \"https://www.google.com/search?\"\n",
    "params = {'tbm':\"isch\",\"q\":query}\n",
    "req.prepare_url(url, params)\n",
    "req.url"
   ]
  },
  {
   "cell_type": "code",
   "execution_count": null,
   "metadata": {},
   "outputs": [],
   "source": [
    "driver.get(req.url)"
   ]
  },
  {
   "cell_type": "code",
   "execution_count": null,
   "metadata": {},
   "outputs": [],
   "source": [
    "# scroll to the bottom\n",
    "\n",
    "last_height = driver.execute_script('return document.body.scrollHeight')\n",
    "i = 0\n",
    "\n",
    "while i<10:\n",
    "    driver.execute_script('window.scrollTo(0,document.body.scrollHeight)')\n",
    "    time.sleep(2)\n",
    "    new_height = driver.execute_script('return document.body.scrollHeight')\n",
    "    print(new_height)\n",
    "\n",
    "    if new_height == last_height:\n",
    "        break\n",
    "    last_height = new_height\n",
    "\n",
    "    i = i + 1"
   ]
  },
  {
   "cell_type": "code",
   "execution_count": null,
   "metadata": {},
   "outputs": [],
   "source": [
    "#store all the blocks of images as selenium elements\n",
    "elements = driver.find_elements(By.XPATH,'//div[@class=\"isv-r PNCib MSM1fd BUooTd\"]')\n",
    "len(elements)"
   ]
  },
  {
   "cell_type": "code",
   "execution_count": null,
   "metadata": {},
   "outputs": [],
   "source": [
    "import time\n",
    "img_src = []\n",
    "\n",
    "\n",
    "for idx,e in enumerate(elements):\n",
    "    \n",
    "    # click on the image block on the result page\n",
    "    e.click()\n",
    "    time.sleep(2)\n",
    "    try:\n",
    "        # store the images after clicking on image block\n",
    "        img = driver.find_element(By.XPATH,'//div[@class=\"MAtCL PUxBg\"]/a/img[@class=\"r48jcc pT0Scc iPVvYb\"]').get_attribute('src')\n",
    "        img_src.append(img)\n",
    "    except Exception as e:\n",
    "        print('Skipped:',idx)\n",
    "\n",
    "    if len(img_src)>100:\n",
    "        break"
   ]
  },
  {
   "cell_type": "code",
   "execution_count": null,
   "metadata": {},
   "outputs": [],
   "source": [
    "# Store the image urls in case the code breaks while downloading images\n",
    "import pandas as pd\n",
    "df = pd.DataFrame({'img_urls':img_src})\n",
    "df.to_csv('images_url.csv',index=False)\n",
    "len(img_src)"
   ]
  },
  {
   "cell_type": "code",
   "execution_count": null,
   "metadata": {},
   "outputs": [],
   "source": [
    "# download the images to a folder location\n",
    "import urllib\n",
    "\n",
    "for idx,img in enumerate(img_src):\n",
    "    try:\n",
    "        urllib.request.urlretrieve(img, f'./Car Damage images/damaged_2/img_{idx}.jpg')\n",
    "    except:\n",
    "        print(f'Skipped {idx}')"
   ]
  },
  {
   "cell_type": "code",
   "execution_count": null,
   "metadata": {},
   "outputs": [],
   "source": [
    "# driver.find_element(By.XPATH,'//input[@value=\"Show more results\"]').click()"
   ]
  },
  {
   "cell_type": "code",
   "execution_count": null,
   "metadata": {},
   "outputs": [],
   "source": []
  }
 ],
 "metadata": {
  "kernelspec": {
   "display_name": "env",
   "language": "python",
   "name": "python3"
  },
  "language_info": {
   "codemirror_mode": {
    "name": "ipython",
    "version": 3
   },
   "file_extension": ".py",
   "mimetype": "text/x-python",
   "name": "python",
   "nbconvert_exporter": "python",
   "pygments_lexer": "ipython3",
   "version": "3.9.6"
  },
  "orig_nbformat": 4
 },
 "nbformat": 4,
 "nbformat_minor": 2
}
